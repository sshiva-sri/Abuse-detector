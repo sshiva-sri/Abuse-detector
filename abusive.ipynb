{
 "cells": [
  {
   "cell_type": "code",
   "execution_count": 1,
   "metadata": {
    "ExecuteTime": {
     "end_time": "2020-02-19T07:41:15.890051Z",
     "start_time": "2020-02-19T07:41:14.490966Z"
    }
   },
   "outputs": [],
   "source": [
    "import sys\n",
    "sys.setrecursionlimit(6000)\n",
    "import pickle\n",
    "from sklearn.metrics import accuracy_score, precision_score, classification_report, confusion_matrix\n",
    "from sklearn.pipeline import Pipeline, FeatureUnion\n",
    "from sklearn.feature_extraction.text import TfidfVectorizer\n",
    "from sklearn.preprocessing import StandardScaler\n",
    "from sklearn.decomposition import TruncatedSVD\n",
    "from sklearn.ensemble import RandomForestClassifier\n",
    "from xgboost import XGBClassifier\n",
    "from nltk.corpus import stopwords\n",
    "import nltk\n",
    "import re\n",
    "from sklearn.base import BaseEstimator, TransformerMixin\n",
    "import numpy as np\n",
    "import pandas as pd\n",
    "from IPython.display import display\n",
    "import joblib"
   ]
  },
  {
   "cell_type": "code",
   "execution_count": 2,
   "metadata": {
    "ExecuteTime": {
     "end_time": "2020-02-19T07:41:20.512291Z",
     "start_time": "2020-02-19T07:41:20.506291Z"
    }
   },
   "outputs": [],
   "source": [
    "class TextSelector(BaseEstimator, TransformerMixin):\n",
    "    def __init__(self, field):\n",
    "        self.field = field\n",
    "    def fit(self, X, y=None):\n",
    "        return self\n",
    "    def transform(self, X):\n",
    "        return X[self.field]\n",
    "class NumberSelector(BaseEstimator, TransformerMixin):\n",
    "    def __init__(self, field):\n",
    "        self.field = field\n",
    "    def fit(self, X, y=None):\n",
    "        return self\n",
    "    def transform(self, X):\n",
    "        return X[[self.field]]\n"
   ]
  },
  {
   "cell_type": "code",
   "execution_count": 3,
   "metadata": {
    "ExecuteTime": {
     "end_time": "2020-02-19T07:41:21.996105Z",
     "start_time": "2020-02-19T07:41:21.991086Z"
    }
   },
   "outputs": [],
   "source": [
    "def Tokenizer(str_input):\n",
    "    words = re.sub(r\"[^A-Za-z0-9\\-]\", \" \", str_input).lower().split()\n",
    "    #porter_stemmer=nltk.PorterStemmer()\n",
    "    #words = [porter_stemmer.stem(word) for word in words]\n",
    "    word_lemma= nltk.WordNetLemmatizer()\n",
    "    words=[word_lemma.lemmatize(word) for word in words]\n",
    "    return words"
   ]
  },
  {
   "cell_type": "code",
   "execution_count": null,
   "metadata": {
    "ExecuteTime": {
     "end_time": "2020-02-18T18:10:54.179287Z",
     "start_time": "2020-02-18T18:10:53.932827Z"
    }
   },
   "outputs": [],
   "source": [
    "''''\n",
    "stop_words = set(stopwords.words('english')) \n",
    "classifier = Pipeline([\n",
    "    ('features', FeatureUnion([\n",
    "        ('text', Pipeline([\n",
    "            ('colext', TextSelector('Text')),\n",
    "            ('tfidf', TfidfVectorizer(tokenizer=Tokenizer, stop_words=stop_words,\n",
    "                     min_df=.0025, max_df=0.25, ngram_range=(1,3))),\n",
    "            ('svd', TruncatedSVD(algorithm='randomized', n_components=300)), #for XGB\n",
    "        ])),\n",
    "        ('words', Pipeline([\n",
    "            ('wordext', NumberSelector('TotalWords')),\n",
    "            ('wscaler', StandardScaler()),\n",
    "        ])),\n",
    "    ])),\n",
    "    ('clf', XGBClassifier(max_depth=4, n_estimators=500,nthread =-1, learning_rate=0.1, scale_pos_weight=0.1)),\n",
    "#    ('clf', RandomForestClassifier()),\n",
    "    ])\n",
    "''''"
   ]
  },
  {
   "cell_type": "code",
   "execution_count": null,
   "metadata": {
    "ExecuteTime": {
     "start_time": "2020-02-18T05:26:47.270Z"
    }
   },
   "outputs": [],
   "source": [
    "''''\n",
    "classifier.fit(X_train, y_train)\n",
    "preds = classifier.predict(X_test)\n",
    "''''"
   ]
  },
  {
   "cell_type": "code",
   "execution_count": 4,
   "metadata": {
    "ExecuteTime": {
     "end_time": "2020-02-19T07:41:56.962511Z",
     "start_time": "2020-02-19T07:41:27.977914Z"
    }
   },
   "outputs": [],
   "source": [
    "mymodel=open('model.pkl','rb')\n",
    "pipe=joblib.load(mymodel)"
   ]
  },
  {
   "cell_type": "code",
   "execution_count": 5,
   "metadata": {
    "ExecuteTime": {
     "end_time": "2020-02-19T07:41:56.974459Z",
     "start_time": "2020-02-19T07:41:56.962511Z"
    }
   },
   "outputs": [],
   "source": [
    "def Filter(Text, Totalwords):\n",
    "    data = [[Text, Totalwords]]\n",
    "    df1 = pd.DataFrame(data,columns = ['Text', 'TotalWords'])\n",
    "    predict = pipe.predict_proba(df1)[:,1] >= 0.03\n",
    "    predict\n",
    "    return predict\n",
    "  "
   ]
  },
  {
   "cell_type": "code",
   "execution_count": 6,
   "metadata": {
    "ExecuteTime": {
     "end_time": "2020-02-19T07:42:12.816202Z",
     "start_time": "2020-02-19T07:42:12.792190Z"
    }
   },
   "outputs": [],
   "source": [
    "from tkinter import *\n",
    "from tkinter import ttk"
   ]
  },
  {
   "cell_type": "code",
   "execution_count": 9,
   "metadata": {
    "ExecuteTime": {
     "end_time": "2020-02-19T07:43:43.128553Z",
     "start_time": "2020-02-19T07:43:27.437626Z"
    }
   },
   "outputs": [],
   "source": [
    "def GUI_function(self):\n",
    "    user_input = comment.get() \n",
    "    predict= Filter(user_input,50)\n",
    "    \n",
    "    if predict == 0:\n",
    "        result.delete(0, \"end\")\n",
    "        result.insert(0,\"Text is fine\")\n",
    "    else:\n",
    "        result.delete(0, \"end\")\n",
    "        result.insert(0,\"Comment can't be posted due to inappropriate language\")\n",
    "\n",
    "def clear_screen():\n",
    "    result.delete(0, \"end\")\n",
    "    result.insert(0,\" \")\n",
    "    comment.delete(0, \"end\")\n",
    "    comment.insert(0,\" \")\n",
    "    \n",
    "def quitApplication():\n",
    "    main.destroy()     \n",
    "    \n",
    "\n",
    "main = Tk()\n",
    "main.title('Online Abusive Comment Detector')\n",
    "\n",
    "frame = Frame(main)\n",
    "frame.grid()\n",
    "\n",
    "label1 = Label(frame, text=\"Post a Comment\")\n",
    "label1.grid(row=0, column=20, padx=4)\n",
    "comment = Entry(frame, width=60)\n",
    "comment.grid(row=0, column=21, padx=4)\n",
    "comment.focus()\n",
    "\n",
    "button_check = Button(frame,text='post')\n",
    "button_check.bind(\"<Button>\",GUI_function)\n",
    "button_check.grid(row=2, column=44)\n",
    "\n",
    "button_clear = Button(frame, text='clear screen',command=clear_screen)\n",
    "button_clear.grid(row=2, column=10)\n",
    "\n",
    "button_quit = Button(frame, text='Quit',command=quitApplication)\n",
    "button_quit.grid(row=3, column=10)\n",
    "\n",
    "\n",
    "label2 = Label(frame, text=\"Result\")\n",
    "label2.grid(row=4, column=20, padx=4)\n",
    "result = Entry(frame,width=60)\n",
    "result.grid(row=4, column=21, padx=4)\n",
    "\n",
    " \n",
    "main.mainloop()"
   ]
  },
  {
   "cell_type": "code",
   "execution_count": null,
   "metadata": {},
   "outputs": [],
   "source": []
  }
 ],
 "metadata": {
  "kernelspec": {
   "display_name": "Python 3",
   "language": "python",
   "name": "python3"
  },
  "language_info": {
   "codemirror_mode": {
    "name": "ipython",
    "version": 3
   },
   "file_extension": ".py",
   "mimetype": "text/x-python",
   "name": "python",
   "nbconvert_exporter": "python",
   "pygments_lexer": "ipython3",
   "version": "3.7.2"
  }
 },
 "nbformat": 4,
 "nbformat_minor": 1
}
